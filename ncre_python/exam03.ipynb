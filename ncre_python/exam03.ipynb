{
 "cells": [
  {
   "cell_type": "markdown",
   "metadata": {},
   "source": [
    "[toc]\n",
    "1. format\n",
    "2. str\n",
    "3. \n",
    "4. turtle\n",
    "5. 算法冒泡\n",
    "6. "
   ]
  },
  {
   "cell_type": "code",
   "execution_count": null,
   "metadata": {},
   "outputs": [],
   "source": [
    "### 从键盘输入一个0到1之间的小数，使用计算公式x= 3.9 *x*(1-x)来产生随机数，在屏幕上输出产生的前10个数据。"
   ]
  },
  {
   "cell_type": "code",
   "execution_count": null,
   "metadata": {},
   "outputs": [],
   "source": [
    "x = eval(input(\"请输入一个0到1之间的小数：\"))#eval 比int好的地方在于小数 集合float eval\n",
    "for i in range(x) :  \n",
    "    x = 3.9 * x * (1 - x)\n",
    "    print(\"{:.10f}\".format(x))"
   ]
  },
  {
   "cell_type": "code",
   "execution_count": null,
   "metadata": {},
   "outputs": [],
   "source": [
    "输入一个包含字母和数字的字符串，剔除其中的字母，只保留数字，输出显示在屏幕上。"
   ]
  },
  {
   "cell_type": "code",
   "execution_count": null,
   "metadata": {},
   "outputs": [],
   "source": [
    "#请在________处填写一行代码\n",
    "#不可修改其他代码\n",
    "\n",
    "w = input()\n",
    "for x in w:\n",
    "   if '0'<= x <= '9':\n",
    "       continue:\n",
    "    else:\n",
    "        w.strip(x)#w.replace(x,'')\n",
    "print(w)\n"
   ]
  },
  {
   "cell_type": "markdown",
   "metadata": {},
   "source": [
    "字符串变量str保存了气体浓度传感器的4条数据，每条数据的第一字段是传感器编号，第二字段是气体名称，第三字段是浓度值。示例如下：\n",
    "传感器编号 气体名称 浓度值\n",
    "TGS2402:甲醛:1.36\n",
    "\n",
    "TGS2500:氮气:5.20\n",
    "\n",
    "TGS2310:甲烷:1.70\n",
    "\n",
    "TGS2820:乙烯:2.43\n",
    "在屏幕上按照浓度值递减的顺序，显示输出每种气体名称，浓度，及其浓度在四种气体浓度中所占的百分比；示例如下：\n"
   ]
  },
  {
   "cell_type": "code",
   "execution_count": null,
   "metadata": {},
   "outputs": [],
   "source": [
    "str = 'TGS2402:甲醛:1.36\\nTGS2500:氮气:5.20\\nTGS2310:甲烷:1.70\\nTGS2820:乙烯:2.43'\n",
    "ls = str._______(1)\n",
    "sum = 0\n",
    "fieds = []\n",
    "\n",
    "for gas in ls:\n",
    "    fi = _________ （2）\n",
    "    sum += _________ （3）\n",
    "    fieds._________ (4)\n",
    "    \n",
    "    fieds.sort(key=lambda x:x[2],reverse=True)\n",
    "\n",
    "for gas in fieds:\n",
    "    print(_________)  （5）\n"
   ]
  },
  {
   "cell_type": "markdown",
   "metadata": {},
   "source": [
    "使用turtle库的fd()、seth()、pencolor()函数绘制彩色嵌套8边形，8边形边长从1像素开始，第一条边从0度方向开始，边长按照2个像素递增，每一圈边使用一种颜色，一共有3种颜色，效果如下图所示。\n",
    "![](https://python123.io/images/3a/ee/b35fdf4811e9754eaaa2b1c4a2e4.jpg)"
   ]
  },
  {
   "cell_type": "code",
   "execution_count": null,
   "metadata": {},
   "outputs": [],
   "source": [
    "import turtle as t\n",
    "colors = ___(1)________ \n",
    "d = 0\n",
    "k = 1\n",
    "\n",
    "for j in range(10):\n",
    "    t.pencolor(____（2）_______）  \n",
    "    for i in range(8）: \n",
    "        t.fd(k)\n",
    "        d = d + 360____(3)_______  \n",
    "        t.seth(d)\n",
    "        k += 2\n",
    "t.done()\n",
    "print('___(1)_____ ','___(2)_____ ','___(3)_____ ')"
   ]
  },
  {
   "cell_type": "markdown",
   "metadata": {},
   "source": [
    "从键盘输入5个整数，用逗号隔开，对这5个整数从小到大排序，并输出结果到屏幕上。编写一个冒泡排序的函数BubbleSort(numbers）,并调用该函数完成排序。"
   ]
  },
  {
   "cell_type": "code",
   "execution_count": null,
   "metadata": {},
   "outputs": [],
   "source": [
    "\n",
    "def BubbleSort(numbers):\n",
    "    for i in range(len(numbers)-1):\n",
    "        for j in range(len(numbers)-1):\n",
    "            if eval(numbers[j]) > eval(numbers[j+1]):\n",
    "                # print('b',i, j, numbers)\n",
    "                numbers[j],numbers[j+1]=numbers[j+1],numbers[j]\n",
    "                # print('a', numbers)\n",
    "    return numbers\n",
    "\n",
    "#print(\"请输入5个整数，用逗号隔开：\")\n",
    "numbers =input()\n",
    "numls = numbers.split(',')\n",
    "sortednum = BubbleSort(numls)\n",
    "print(','.join(sortednum))"
   ]
  }
 ],
 "metadata": {
  "kernelspec": {
   "display_name": "Python 3",
   "language": "python",
   "name": "python3"
  },
  "language_info": {
   "codemirror_mode": {
    "name": "ipython",
    "version": 3
   },
   "file_extension": ".py",
   "mimetype": "text/x-python",
   "name": "python",
   "nbconvert_exporter": "python",
   "pygments_lexer": "ipython3",
   "version": "3.7.0"
  }
 },
 "nbformat": 4,
 "nbformat_minor": 2
}

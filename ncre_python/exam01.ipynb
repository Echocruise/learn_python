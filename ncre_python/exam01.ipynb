{
 "cells": [
  {
   "cell_type": "markdown",
   "metadata": {},
   "source": [
    "1. 请使用time 输出当前系统时间，参考格式为：2018-01-26 12:55:20"
   ]
  },
  {
   "cell_type": "code",
   "execution_count": 1,
   "metadata": {},
   "outputs": [
    {
     "data": {
      "text/plain": [
       "'2019-08-28 11:11:54'"
      ]
     },
     "execution_count": 1,
     "metadata": {},
     "output_type": "execute_result"
    }
   ],
   "source": [
    "import time\n",
    "lctime = time.localtime()\n",
    "time.strftime(\"%Y-%m-%d %H:%M:%S\", lctime)"
   ]
  },
  {
   "cell_type": "markdown",
   "metadata": {},
   "source": [
    "time 库中可以通过 time gtime localtime ctime获取时间\n",
    "gtime UTC时间\n",
    "localtime 本地时间\n",
    "ctime 自动转换为易读"
   ]
  },
  {
   "cell_type": "markdown",
   "metadata": {},
   "source": [
    "strftime 格式化代码\n",
    "格式化字符串\t日期/时间说明\t值范围和实例\n",
    "%Y\t年份\t0000~9999，例如：1900\n",
    "%m\t月份\t01~12，例如：10\n",
    "%B\t月份名称\tJanuary~December，例如：April\n",
    "%b\t月份名称缩写\tJan~Dec，例如：Apr\n",
    "%d\t日期\t01~31，例如：25\n",
    "%A\t星期\tMonday~Sunday，例如：Wednesday\n",
    "%a\t星期缩写\tMon~Sun，例如：Wed\n",
    "%H\t小时（24h制）\t00~23，例如：12\n",
    "%h\t小时（12h制）\t01~12，例如：7\n",
    "%p\t上/下午\tAM, PM，例如：PM\n",
    "%M\t分钟\t00~59，例如：26\n",
    "%S\t秒\t00~59，例如：26\n"
   ]
  },
  {
   "cell_type": "markdown",
   "metadata": {},
   "source": [
    "2. 请参考编程模板，完成以下功能。输入一个自然数n，如果n为奇数，输出表达式1+1/3+.....+1/n的值；如果n为偶数,输出表达式1/2+1/4+....+1/n的值；输出表达式结果保留2位小数。本题目支持自动评阅"
   ]
  },
  {
   "cell_type": "code",
   "execution_count": null,
   "metadata": {},
   "outputs": [],
   "source": [
    "def f(n):\n",
    "    sum = 0 \n",
    "    if n % 2 != 0: #取模运算\n",
    "        for i in range(1, n+1, 2):\n",
    "            sum += 1/i\n",
    "    else:\n",
    "        for i in range(2, n+1, 2):\n",
    "            sum += 1/i\n",
    "    return sum\n",
    "\n",
    "n = int(input())\n",
    "print(round(f(n),2))"
   ]
  },
  {
   "cell_type": "markdown",
   "metadata": {},
   "source": [
    "3.输出字典fruits中键值最大的键值对"
   ]
  },
  {
   "cell_type": "code",
   "execution_count": 3,
   "metadata": {},
   "outputs": [
    {
     "name": "stdout",
     "output_type": "stream",
     "text": [
      "durian:20\n"
     ]
    }
   ],
   "source": [
    "fruits = {\"apple\":10,\"mango\":12,\"durian\":20,\"banana\":5}\n",
    "m = 'apple'\n",
    "for key in fruits.keys():\n",
    "    if fruits[m] < fruits[key]:#字典中只能通过键索引值 不能通过值索引键 所以比较值的大小 需要通过键索引进行比较 for遍历 加以替换\n",
    "        m = key  \n",
    "print('{}:{}'.format(m,fruits[m]))"
   ]
  },
  {
   "cell_type": "markdown",
   "metadata": {},
   "source": [
    "绘制如下图像。\n",
    "![](https://python123.io/images/27/dd/62749f5193b9104c9e1f8746498b.png)"
   ]
  },
  {
   "cell_type": "code",
   "execution_count": null,
   "metadata": {},
   "outputs": [],
   "source": [
    "import turtule\n",
    "pensize(6)\n",
    "____(2)_____\n",
    "goto(-100,-50)\n",
    "pendown()\n",
    "____(3)______  #填充红色\n",
    "begin_fill()\n",
    "goto(-100,50)\n",
    "goto(100,-50)\n",
    "goto(100,50)\n",
    "goto(-100,-50)\n",
    "penup()\n",
    "goto(-10,0)\n",
    "pendown()\n",
    "right(90)\n",
    "circle(10,360)\n",
    "end_fill()\n",
    "hideturtle()\n",
    "done()"
   ]
  },
  {
   "cell_type": "markdown",
   "metadata": {},
   "source": [
    "4 请对《阿甘正传-网络版》进行中文分词，排除单个字符的分词结果，输出排序后的前10的词语。本题目不支持自动评语。‪‬‪‬‪‬‪‬‪‬‮‬‭‬‫‬‪‬‪‬‪‬‪‬‪‬‮‬‫‬‭‬‪‬‪‬‪‬‪‬‪‬‮‬‪‬‫‬‪‬‪‬‪‬‪‬‪‬‮‬‫‬‮‬‪‬‪‬‪‬‪‬‪‬‮‬‪‬‮‬\n",
    "\n"
   ]
  },
  {
   "cell_type": "code",
   "execution_count": null,
   "metadata": {},
   "outputs": [],
   "source": [
    "import jieba\n",
    "txt = open(\"阿甘正传-网络版.txt\",\"r\",encoding =\"utf-8\").read()\n",
    "____(1)____#\n",
    "counts ={}\n",
    "for word in words:\n",
    "    ......#\n",
    "items = list(counts.items())\n",
    "items.sort(key = lambda x:x[1],reverse = True)\n",
    "for i in range(10):\n",
    "    word,count = items[i]\n",
    "    print(\"{0}:{1}\".format(word,count))"
   ]
  },
  {
   "cell_type": "markdown",
   "metadata": {},
   "source": [
    "如何使用jieba库"
   ]
  },
  {
   "cell_type": "markdown",
   "metadata": {},
   "source": [
    "5 如何设置中位数函数与平均数函数"
   ]
  },
  {
   "cell_type": "code",
   "execution_count": null,
   "metadata": {},
   "outputs": [],
   "source": [
    "#在......中填写多行代码\n",
    "def Arithmetic(numbers):#计算算法平均数\n",
    "    sum = 0 \n",
    "    for i in numbers:#numbers为列表\n",
    "        sum = sum+i\n",
    "    return sum/(len(numbers))\n",
    "\n",
    "def Median(numbers):    #计算中位数\n",
    "    # 需要考虑奇数与偶数 \n",
    "    if len(numbers) % 2 !=0:\n",
    "        return numbers[len(numbers) // 2]#向下取整 5/2 2 为中位数\n",
    "    else:\n",
    "        return (numbers[len(numbers) // 2]+numbers[len(numbers) //2 - 1])/2 # 6/2 3 \n",
    "\n",
    "fo = open(\"numbers.txt\",\"r\",encoding =\"utf-8\")\n",
    "ls = []\n",
    "for line in fo.readlines():\n",
    "    line = line.replace(\"\\n\",\"\")\n",
    "    ls.append(line)\n",
    "\n",
    "print(\"算术平均数为{}。\".format(Arithmetic(ls)))\n",
    "print(\"中位数为{}。\".format(Median(ls)))"
   ]
  }
 ],
 "metadata": {
  "kernelspec": {
   "display_name": "Python 3",
   "language": "python",
   "name": "python3"
  },
  "language_info": {
   "codemirror_mode": {
    "name": "ipython",
    "version": 3
   },
   "file_extension": ".py",
   "mimetype": "text/x-python",
   "name": "python",
   "nbconvert_exporter": "python",
   "pygments_lexer": "ipython3",
   "version": "3.7.0"
  }
 },
 "nbformat": 4,
 "nbformat_minor": 2
}

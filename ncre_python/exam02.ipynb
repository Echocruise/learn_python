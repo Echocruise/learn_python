{
 "cells": [
  {
   "cell_type": "markdown",
   "metadata": {},
   "source": [
    "1. 参照代码模板完善代码，用pip更新pip自身。请补全需要执行的指令，用print语句输出，供平台自动评判"
   ]
  },
  {
   "cell_type": "code",
   "execution_count": null,
   "metadata": {},
   "outputs": [],
   "source": [
    "# 在_____处填写一行代码\n",
    "#不要修改其他代码\n",
    "\n",
    "#pip _____（1）____\n",
    "print('install -U pip')"
   ]
  },
  {
   "cell_type": "markdown",
   "metadata": {},
   "source": [
    "2. 从键盘输入一个整数n，生成10到100之间的n个浮点数，求最大值"
   ]
  },
  {
   "cell_type": "code",
   "execution_count": null,
   "metadata": {},
   "outputs": [],
   "source": [
    "#请在________处填写一行代码\n",
    "#不能修改其他代码\n",
    "\n",
    "import random\n",
    "random.seed(2)#随机数的使用\n",
    "print(\"请输入1个整数n：\")\n",
    "n =input()\n",
    "maxk = 0\n",
    "for i in range(int(n))：#eval 返回字符串里面的值或计算比int少一步\n",
    "    k = ____(2)______ #生成随机数 random.randint(a,b) 包含 a 和 b。\n",
    "    # random.uniform(7, 14)\n",
    "    if maxk < k :\n",
    "        _____(3)______\n",
    "print('{:.2f}'.format(maxk))#设置生成的格式为两位消暑{:.2f}\n",
    "print('____(1)____ ','____(2)______ ','____(3)______')\n"
   ]
  },
  {
   "cell_type": "markdown",
   "metadata": {},
   "source": [
    "3. 键盘输入7个整数，用逗号隔开，对这7个整数从小到大排序，并输出结果到屏幕上。编写一个选择排序的函数SelectSort(lst,n）,并调用该函数完成排序"
   ]
  },
  {
   "cell_type": "code",
   "execution_count": null,
   "metadata": {},
   "outputs": [],
   "source": [
    "#请在________处填写一行代码\n",
    "#不能修改其他代码\n",
    "\n",
    "def SelectionSort(lst, n):#n是长度\n",
    "     for i in range(n):\n",
    "         for j in range(__(1)______)\n",
    "            if lst[j] == min(lst[i: n]):\n",
    "                 _______（2）_________  \n",
    "    return lst\n",
    "\n",
    "print(\"请输入7个整数，用逗号隔开：\")\n",
    "numbers =input()\n",
    "lst = numbers.split(',')#用逗号分隔符进行切割\n",
    "slst = SelectionSort(lst, len(lst))\n",
    "print(','.______（3）________)\n",
    "\n",
    "print('__(1)______ ','__(2)_____ ','__(3)_____')"
   ]
  },
  {
   "cell_type": "markdown",
   "metadata": {},
   "source": [
    "4. 使用turtle库的fd()、seth()、pencolor()函数绘制嵌套五角形，五角形边长从1像素开始，第一条边从0度方向开始，边长按照2个像素递增，每条边使用一种颜色，效果如下图所示\n",
    "![](https://python123.io/images/00/4f/f50544eec29a69064599e62ce547.jpg)"
   ]
  },
  {
   "cell_type": "code",
   "execution_count": null,
   "metadata": {},
   "outputs": [],
   "source": [
    "#在_____处填写一行代码\n",
    "#不允许修改其他代码\n",
    "\n",
    "# import turtle as t\n",
    "# colors = [\"purple\",\"red\",\"blue\",\"green\",\"black\"]\n",
    "# d = 0\n",
    "# k = 1\n",
    "# edge = 5\n",
    "\n",
    "# for j in range(10):\n",
    "#     for i in range(__ (1)_____): \n",
    "#         t._________（2）___________\n",
    "#         t.fd(k)\n",
    "#         d = d + 360___（3）_________\n",
    "#         t.seth(d)\n",
    "#         k += 2\n",
    "# t.done()"
   ]
  }
 ],
 "metadata": {
  "kernelspec": {
   "display_name": "Python 3",
   "language": "python",
   "name": "python3"
  },
  "language_info": {
   "codemirror_mode": {
    "name": "ipython",
    "version": 3
   },
   "file_extension": ".py",
   "mimetype": "text/x-python",
   "name": "python",
   "nbconvert_exporter": "python",
   "pygments_lexer": "ipython3",
   "version": "3.7.0"
  }
 },
 "nbformat": 4,
 "nbformat_minor": 2
}

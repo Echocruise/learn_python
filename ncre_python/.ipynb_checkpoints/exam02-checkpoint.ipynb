{
 "cells": [
  {
   "cell_type": "markdown",
   "metadata": {},
   "source": [
    "summary\n",
    "1. pip\n",
    "2. random\n",
    "3. 编程\n",
    "4. turtle\n",
    "5. 编程\n",
    "6. jieba"
   ]
  },
  {
   "cell_type": "markdown",
   "metadata": {},
   "source": [
    "1. 参照代码模板完善代码，用pip更新pip自身。请补全需要执行的指令，用print语句输出，供平台自动评判"
   ]
  },
  {
   "cell_type": "code",
   "execution_count": null,
   "metadata": {},
   "outputs": [],
   "source": [
    "# 在_____处填写一行代码\n",
    "#不要修改其他代码\n",
    "\n",
    "#pip _____（1）____\n",
    "print('install -U pip')"
   ]
  },
  {
   "cell_type": "markdown",
   "metadata": {},
   "source": [
    "2. 从键盘输入一个整数n，生成10到100之间的n个浮点数，求最大值"
   ]
  },
  {
   "cell_type": "code",
   "execution_count": 3,
   "metadata": {},
   "outputs": [
    {
     "name": "stdout",
     "output_type": "stream",
     "text": [
      "请输入1个整数n：\n",
      "5\n",
      "96.04\n"
     ]
    }
   ],
   "source": [
    "#请在________处填写一行代码\n",
    "#不能修改其他代码\n",
    "\n",
    "import random\n",
    "random.seed(2)# 设置种子返回同样的随机数\n",
    "print(\"请输入1个整数n：\")\n",
    "n =input()\n",
    "maxk = 0\n",
    "for i in range(int(n)):#eval 返回字符串里面的值或计算比int少一步\n",
    "    k = random.uniform(10, 100) #生成随机数 random.randint(a,b) 包含 a 和 b 生成的是整数\n",
    "    # random.uniform(7, 14)# 生成随机小数\n",
    "    if maxk < k :\n",
    "        maxk = k\n",
    "print('{:.2f}'.format(maxk))#设置生成的格式为两位消暑{:.2f}\n"
   ]
  },
  {
   "cell_type": "markdown",
   "metadata": {},
   "source": [
    "3. 键盘输入7个整数，用逗号隔开，对这7个整数从小到大排序，并输出结果到屏幕上。编写一个选择排序的函数SelectSort(lst,n）,并调用该函数完成排序"
   ]
  },
  {
   "cell_type": "code",
   "execution_count": null,
   "metadata": {},
   "outputs": [],
   "source": [
    "#请在________处填写一行代码\n",
    "#不能修改其他代码\n",
    "\n",
    "def SelectionSort(lst, n):#n是长度\n",
    "     for i in range(n):\n",
    "         for j in range(n+1)\n",
    "            if lst[j] == min(lst[i: n]):\n",
    "                 lst[j] = min(lst[i: n])  \n",
    "    return lst\n",
    "\n",
    "print(\"请输入7个整数，用逗号隔开：\")\n",
    "numbers =input()\n",
    "lst = numbers.split(',')#用逗号分隔符进行切割#生成字符串列表\n",
    "slst = SelectionSort(lst, len(lst))\n",
    "print(','.______（3）________)\n",
    "\n"
   ]
  },
  {
   "cell_type": "markdown",
   "metadata": {},
   "source": [
    "4. 使用turtle库的fd()、seth()、pencolor()函数绘制嵌套五角形，五角形边长从1像素开始，第一条边从0度方向开始，边长按照2个像素递增，每条边使用一种颜色，效果如下图所示\n",
    "![](https://python123.io/images/00/4f/f50544eec29a69064599e62ce547.jpg)"
   ]
  },
  {
   "cell_type": "code",
   "execution_count": null,
   "metadata": {},
   "outputs": [],
   "source": [
    "#在_____处填写一行代码\n",
    "#不允许修改其他代码\n",
    "\n",
    "# import turtle as t\n",
    "# colors = [\"purple\",\"red\",\"blue\",\"green\",\"black\"]\n",
    "# d = 0\n",
    "# k = 1\n",
    "# edge = 5\n",
    "\n",
    "# for j in range(10):\n",
    "#     for i in range(__ (1)_____): \n",
    "#         t._________（2）___________\n",
    "#         t.fd(k)\n",
    "#         d = d + 360___（3）_________\n",
    "#         t.seth(d)\n",
    "#         k += 2\n",
    "# t.done()"
   ]
  },
  {
   "cell_type": "markdown",
   "metadata": {},
   "source": [
    "5. 从键盘接收一个整数n,作为一维向量的长度；然后输入n个整数，以逗号隔开，存成一个向量x，然后再接收另n个整数，以逗号隔开，存成另一个向量y，然后计算两个向量对应元素的乘积的和，在屏幕上输出结果。(本题目不支持在线评测)"
   ]
  },
  {
   "cell_type": "code",
   "execution_count": null,
   "metadata": {},
   "outputs": [],
   "source": [
    "flag = 1\n",
    "while flag:\n",
    "    try:\n",
    "        n = eval(input(\"请输入向量的长度n：\"))\n",
    "        xin = input(\"请输入向量x的{}个整数，以逗号分隔：\".format(n)).split(',')\n",
    "        yin = input(\"请输入向量y的{}个整数，以逗号分隔：\".format(n)).split(',')\n",
    "        _____________\n",
    "        sum = 0\n",
    "        for i in range(int(n)):\n",
    "            sum = sum + int(xin[i])*int(yin[i])# 字符串列表需要进行int\n",
    "        print(\"x和y的内积是：{}\".format(sum))#(\"x和y的内积是：\", sum) \n",
    "    except:\n",
    "       print(\"请输入整数！\")\n",
    "       _________________\n"
   ]
  }
 ],
 "metadata": {
  "kernelspec": {
   "display_name": "Python 3",
   "language": "python",
   "name": "python3"
  },
  "language_info": {
   "codemirror_mode": {
    "name": "ipython",
    "version": 3
   },
   "file_extension": ".py",
   "mimetype": "text/x-python",
   "name": "python",
   "nbconvert_exporter": "python",
   "pygments_lexer": "ipython3",
   "version": "3.7.0"
  }
 },
 "nbformat": 4,
 "nbformat_minor": 2
}
